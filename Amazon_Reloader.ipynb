{
 "cells": [
  {
   "source": [],
   "cell_type": "markdown",
   "metadata": {}
  },
  {
   "cell_type": "code",
   "execution_count": 1,
   "metadata": {},
   "outputs": [],
   "source": [
    "# Import dependencies; be sure to install them via pip or conda as needed\n",
    "from splinter import Browser\n",
    "from bs4 import BeautifulSoup as soup\n",
    "from config import username, password, cardno\n",
    "from time import sleep"
   ]
  },
  {
   "cell_type": "code",
   "execution_count": 2,
   "metadata": {
    "collapsed": true
   },
   "outputs": [],
   "source": [
    "# For Windows users\n",
    "executable_path = {'executable_path': 'chromedriver.exe'}\n",
    "browser = Browser('chrome', **executable_path, headless=False)"
   ]
  },
  {
   "cell_type": "code",
   "execution_count": 3,
   "metadata": {
    "collapsed": true
   },
   "outputs": [],
   "source": [
    "# Visit Amazon.com\n",
    "url = 'https://www.amazon.com/asv/reload/order'\n",
    "browser.visit(url)\n",
    "\n",
    "# Click on Sign in button\n",
    "browser.find_link_by_partial_text('Sign in').first.click()\n",
    "sleep(1)\n",
    "\n",
    "# Fill with username\n",
    "browser.find_by_css('.a-input-text').fill(username)\n",
    "sleep(1)\n",
    "\n",
    "# Click on Continue button\n",
    "browser.find_by_id('continue').first.click()\n",
    "sleep(1)\n",
    "\n",
    "# Fill with password\n",
    "browser.find_by_css('#ap_password').fill(password)\n",
    "sleep(1)\n",
    "\n",
    "# Click on Sign-In button\n",
    "browser.find_by_id('signInSubmit').first.click()\n",
    "sleep(1)\n",
    "\n",
    "# Authorize email, then proceed\n"
   ]
  },
  {
   "source": [],
   "cell_type": "markdown",
   "metadata": {}
  },
  {
   "cell_type": "code",
   "execution_count": 11,
   "metadata": {},
   "outputs": [],
   "source": [
    "# Fill in with desired amount, default 50 cents. Randomize if you want. Click to ensure a changed final button text.\n",
    "browser.find_by_css('.amount-currency').fill('.5')\n",
    "browser.find_by_css('.amount-currency').first.click()\n",
    "sleep(1)\n",
    "\n",
    "# Click on the final button\n",
    "browser.find_by_id('form-submit-button').first.click()\n",
    "sleep(1)\n",
    "\n",
    "# Click on the \"Reload your balance again link\"\n",
    "browser.find_link_by_partial_text('Sign in').first.click()"
   ]
  },
  {
   "cell_type": "code",
   "execution_count": null,
   "metadata": {},
   "outputs": [],
   "source": []
  }
 ],
 "metadata": {
  "kernelspec": {
   "display_name": "Python 3",
   "language": "python",
   "name": "python3"
  },
  "language_info": {
   "codemirror_mode": {
    "name": "ipython",
    "version": 3
   },
   "file_extension": ".py",
   "mimetype": "text/x-python",
   "name": "python",
   "nbconvert_exporter": "python",
   "pygments_lexer": "ipython3",
   "version": "3.7.4-final"
  },
  "varInspector": {
   "cols": {
    "lenName": 16,
    "lenType": 16,
    "lenVar": 40
   },
   "kernels_config": {
    "python": {
     "delete_cmd_postfix": "",
     "delete_cmd_prefix": "del ",
     "library": "var_list.py",
     "varRefreshCmd": "print(var_dic_list())"
    },
    "r": {
     "delete_cmd_postfix": ") ",
     "delete_cmd_prefix": "rm(",
     "library": "var_list.r",
     "varRefreshCmd": "cat(var_dic_list()) "
    }
   },
   "types_to_exclude": [
    "module",
    "function",
    "builtin_function_or_method",
    "instance",
    "_Feature"
   ],
   "window_display": false
  }
 },
 "nbformat": 4,
 "nbformat_minor": 2
}