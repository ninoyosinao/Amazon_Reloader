{
 "cells": [
  {
   "source": [
    "# Dependencies and browser set-up"
   ],
   "cell_type": "markdown",
   "metadata": {}
  },
  {
   "cell_type": "code",
   "execution_count": 10,
   "metadata": {},
   "outputs": [],
   "source": [
    "# Import dependencies; be sure to install them via pip or conda as needed\n",
    "from splinter import Browser\n",
    "from bs4 import BeautifulSoup as soup\n",
    "from config import username, password, cardno\n",
    "from time import sleep\n",
    "from math import floor"
   ]
  },
  {
   "cell_type": "code",
   "execution_count": 2,
   "metadata": {
    "collapsed": true
   },
   "outputs": [],
   "source": [
    "# For Windows users\n",
    "executable_path = {'executable_path': 'chromedriver.exe'}\n",
    "browser = Browser('chrome', **executable_path, headless=False)"
   ]
  },
  {
   "source": [
    "# Initialize sign-in"
   ],
   "cell_type": "markdown",
   "metadata": {}
  },
  {
   "cell_type": "code",
   "execution_count": 3,
   "metadata": {
    "collapsed": true
   },
   "outputs": [],
   "source": [
    "# Visit Amazon.com\n",
    "url = 'https://www.amazon.com/asv/reload/order'\n",
    "browser.visit(url)\n",
    "\n",
    "# Click on Sign in button\n",
    "browser.find_link_by_partial_text('Sign in').first.click()\n",
    "sleep(1)\n",
    "\n",
    "# Fill with username\n",
    "browser.find_by_css('.a-input-text').fill(username)\n",
    "sleep(1)\n",
    "\n",
    "# Click on Continue button\n",
    "browser.find_by_id('continue').first.click()\n",
    "sleep(1)\n",
    "\n",
    "# Fill with password\n",
    "browser.find_by_css('#ap_password').fill(password)\n",
    "sleep(1)\n",
    "\n",
    "# Click on Sign-In button\n",
    "browser.find_by_id('signInSubmit').first.click()\n",
    "sleep(1)\n",
    "\n",
    "# Authorize email, then proceed\n"
   ]
  },
  {
   "source": [
    "# Main script body"
   ],
   "cell_type": "markdown",
   "metadata": {}
  },
  {
   "cell_type": "code",
   "execution_count": 18,
   "metadata": {},
   "outputs": [],
   "source": [
    "# How many times would you like to do repeat the script below?\n",
    "num_runs = input(\"How many times would you like to repeat the script?\")\n",
    "\n",
    "try:\n",
    "    runs = floor(float(num_runs))\n",
    "except ValueError:\n",
    "    print(\"Not a numerical value.\")\n",
    "\n",
    "# How much would you like to reload for? (Minimum 50 cents)\n",
    "reload_amt = input(\"How much would you like to reload for?\")\n",
    "\n",
    "try:\n",
    "    reload_amt = float(reload_amt)\n",
    "except ValueError:\n",
    "    print(\"Not a numerical value.\")\n",
    "\n",
    "for attempt in range(runs):\n",
    "\n",
    "    # Fill in with specified amount. Click to ensure a changed final button text.\n",
    "    browser.find_by_css('.amount-currency').fill(str(reload_amt))\n",
    "    sleep(2)\n",
    "    browser.find_by_css('.amount-currency').first.click()\n",
    "    sleep(2)\n",
    "\n",
    "    # Click on the final button; if authorization to enter card is required, manually input that\n",
    "    browser.find_by_id('form-submit-button').first.click()\n",
    "    sleep(2)\n",
    "\n",
    "    # Click on the \"Reload your balance again link\"\n",
    "    browser.find_link_by_partial_text('Reload your balance again').first.click()\n",
    "    sleep(2)"
   ]
  },
  {
   "cell_type": "code",
   "execution_count": 6,
   "metadata": {},
   "outputs": [],
   "source": []
  },
  {
   "cell_type": "code",
   "execution_count": null,
   "metadata": {},
   "outputs": [],
   "source": []
  }
 ],
 "metadata": {
  "kernelspec": {
   "display_name": "Python 3",
   "language": "python",
   "name": "python3"
  },
  "language_info": {
   "codemirror_mode": {
    "name": "ipython",
    "version": 3
   },
   "file_extension": ".py",
   "mimetype": "text/x-python",
   "name": "python",
   "nbconvert_exporter": "python",
   "pygments_lexer": "ipython3",
   "version": "3.7.4-final"
  },
  "varInspector": {
   "cols": {
    "lenName": 16,
    "lenType": 16,
    "lenVar": 40
   },
   "kernels_config": {
    "python": {
     "delete_cmd_postfix": "",
     "delete_cmd_prefix": "del ",
     "library": "var_list.py",
     "varRefreshCmd": "print(var_dic_list())"
    },
    "r": {
     "delete_cmd_postfix": ") ",
     "delete_cmd_prefix": "rm(",
     "library": "var_list.r",
     "varRefreshCmd": "cat(var_dic_list()) "
    }
   },
   "types_to_exclude": [
    "module",
    "function",
    "builtin_function_or_method",
    "instance",
    "_Feature"
   ],
   "window_display": false
  }
 },
 "nbformat": 4,
 "nbformat_minor": 2
}